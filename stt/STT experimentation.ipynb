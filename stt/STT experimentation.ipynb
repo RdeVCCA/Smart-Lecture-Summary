{
 "cells": [
  {
   "cell_type": "markdown",
   "id": "ea043001-4fb4-4d46-bd50-0f2043fea471",
   "metadata": {},
   "source": [
    "# Speech Recognition module\n",
    "\n",
    "### Requirements\n",
    "\n",
    "- Python 3.8+ (required)\n",
    "<br><br>\n",
    "- PyAudio 0.2.11+ (only if you need to use microphone input, Micropho- ne)\n",
    "<br><br>\n",
    "- PocketSphinx (only if you need to use the Sphinx recognizer, recognizer_instance.recognize_sp- hinx)\n",
    "<br><br>\n",
    "- Google API Client Library for Python (only if you need to use the Google Cloud Speech API, recognizer_instance.recognize_google- _cloud)\n",
    "<br><br>\n",
    "- FLAC encoder (required only if the system is not x86-based Windows/Linux/OS X)\n",
    "<br><br>\n",
    "- Vosk (required only if you need to use Vosk API speech recognition recognizer_instance.recognize_vosk)\n",
    "<br><br>\n",
    "- Whisper (required only if you need to use Whisper recognizer_instance.recognize_whisper)\n",
    "<br><br>\n",
    "- openai (required only if you need to use Whisper API speech recognition recognizer_instance.recognize_whisper_api)\n",
    "\n",
    "\n",
    "## 7 Methods for speech recognition\n",
    "1. recognize_bing(): Microsoft Bing Speech\n",
    "<br><br>\n",
    "2. recognize_google(): Google Web Speech AP\n",
    "<br><br>\n",
    "3. recognize_google_cloud(): Google Cloud Speech - requires installation of the google-cloud-speech package (I checked, need pay)\n",
    "<br><br>\n",
    "4. recognize_houndify(): Houndify by SoundHound\n",
    "<br><br>\n",
    "5. recognize_ibm(): IBM Speech to Text\n",
    "<br><br>\n",
    "6. recognize_sphinx(): CMU Sphinx - requires installing PocketSphinx, no need internet connection to stt\n",
    "<br><br>\n",
    "7. recognize_wit(): Wit.ai\n",
    "\n",
    "## Supported File Types\n",
    "1. WAV: must be in PCM/LPCM format\n",
    "<br><br>\n",
    "2. AIFF\n",
    "<br><br>\n",
    "3. AIFF-C\n",
    "<br><br>\n",
    "4. FLAC: must be native FLAC format; OGG-FLAC is not supported\n",
    "<br><br>\n",
    "5. If you are working on x-86 based Linux, macOS or Windows, you should be able to work with FLAC files without a problem. On other platforms, you will need to install a FLAC encoder and ensure you have access to the flac command line tool. "
   ]
  },
  {
   "cell_type": "markdown",
   "id": "514caae7",
   "metadata": {},
   "source": [
    "### Experimentation\n",
    "- `recognise_google` Seems like the best choice, it is the most extensively covered on online sources (tutorials and stack overflow) I barely see the rest so imma pick this one. <br><br>\n",
    "- Used a random audio file that spouts complete bs but its .wav so sure why not"
   ]
  },
  {
   "cell_type": "code",
   "execution_count": 1,
   "id": "05da925f",
   "metadata": {},
   "outputs": [],
   "source": [
    "import speech_recognition as sr"
   ]
  },
  {
   "cell_type": "code",
   "execution_count": 2,
   "id": "012039fe",
   "metadata": {
    "scrolled": true
   },
   "outputs": [
    {
     "name": "stdout",
     "output_type": "stream",
     "text": [
      "the stale smell of old beer lingers it takes heat to bring out the odor a cold dip restores health and zest a salt pickle taste fine with ham tacos al pastor are my favorite a zestful food is the hot cross bun\n"
     ]
    }
   ],
   "source": [
    "audio = sr.AudioFile('randombs.wav') #save audio as a var\n",
    "\n",
    "r = sr.Recognizer() #creating a recogniser instance\n",
    "\n",
    "with audio as source: #record() method req audio source be managed through a with statement for proper cleanup after the operation\n",
    "    audio = r.record(audio)\n",
    "    \n",
    "try:\n",
    "    text = r.recognize_google(audio) #stt\n",
    "    print(text) \n",
    "    \n",
    "except Exception as e:\n",
    "    print('error:', e)"
   ]
  },
  {
   "cell_type": "markdown",
   "id": "9f03084b",
   "metadata": {},
   "source": [
    "Thats really good but with a singaporean accent idk how well it will perform, so i mustered my best sg accent and tried it lol"
   ]
  },
  {
   "cell_type": "code",
   "execution_count": 10,
   "id": "44d20930",
   "metadata": {},
   "outputs": [
    {
     "name": "stdout",
     "output_type": "stream",
     "text": [
      "okay this is the second attempt at making a Singaporean accent audio so I'm going to keep talking and see whether our speech recognition can identify what I'm trying to say in the best Singaporean accent I can possibly master so yeah this is what I'm talking like this and I'm just going to keep talking to this we just about 30 seconds and yeah hopefully this works he he okay bye-bye bye\n"
     ]
    }
   ],
   "source": [
    "sgaudio = sr.AudioFile('sg.wav') \n",
    "\n",
    "with sgaudio as source:\n",
    "    sgaudio = r.record(sgaudio)\n",
    "    \n",
    "try:\n",
    "    text = r.recognize_google(sgaudio) #can add extra param: show_all=True to see all the different predictions\n",
    "    print(text) \n",
    "    \n",
    "except Exception as e:\n",
    "    print('error:', e)"
   ]
  },
  {
   "cell_type": "markdown",
   "id": "eb358d74",
   "metadata": {},
   "source": [
    "OKay this isnt that great as you can tell there are some identification errors hahah but i think the gist of the content is there? I think gpt will have a hard time making a good summary with this level of accurcay though. \n",
    "<br><br>\n",
    "Another issue is that I we can't feed a whole hour long .wav into the speech recognition so have to split the audio into multiple parts then do the stt. (Maximum duration is 60s, apparently)\n",
    "1. Split audio into equal chunks (less accurate but easier)\n",
    "<br><br>\n",
    "2. Split audio based on pauses in between sentences (more accurate but diff ppl pause for diff amts of time so need to decide split at 0.2 or 0.5 or 1 s etc etc, may not work for people who pause differently from what we use)"
   ]
  },
  {
   "cell_type": "code",
   "execution_count": null,
   "id": "580f5240",
   "metadata": {},
   "outputs": [],
   "source": []
  }
 ],
 "metadata": {
  "kernelspec": {
   "display_name": "Python 3",
   "language": "python",
   "name": "python3"
  },
  "language_info": {
   "codemirror_mode": {
    "name": "ipython",
    "version": 3
   },
   "file_extension": ".py",
   "mimetype": "text/x-python",
   "name": "python",
   "nbconvert_exporter": "python",
   "pygments_lexer": "ipython3",
   "version": "3.10.0"
  }
 },
 "nbformat": 4,
 "nbformat_minor": 5
}
